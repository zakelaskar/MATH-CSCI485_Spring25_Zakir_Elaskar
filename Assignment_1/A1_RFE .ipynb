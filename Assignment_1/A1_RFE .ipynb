{
 "cells": [
  {
   "cell_type": "code",
   "execution_count": 1,
   "id": "15ffc2cb-43b4-4cec-9ba2-7935912fb1cc",
   "metadata": {},
   "outputs": [],
   "source": [
    "from sklearn.datasets import load_diabetes\n",
    "import pandas as pd\n",
    "from sklearn.model_selection import train_test_split\n",
    "from sklearn.linear_model import LinearRegression\n",
    "import numpy as np\n",
    "import matplotlib.pyplot as plt\n",
    "from sklearn.feature_selection import RFE"
   ]
  },
  {
   "cell_type": "code",
   "execution_count": 2,
   "id": "0f44e085-ad2a-442f-bb3d-92071542da4f",
   "metadata": {},
   "outputs": [],
   "source": [
    "diabetes = load_diabetes()"
   ]
  },
  {
   "cell_type": "code",
   "execution_count": 3,
   "id": "9c52d48a-c588-4bb4-812d-b8706c995351",
   "metadata": {},
   "outputs": [
    {
     "name": "stdout",
     "output_type": "stream",
     "text": [
      ".. _diabetes_dataset:\n",
      "\n",
      "Diabetes dataset\n",
      "----------------\n",
      "\n",
      "Ten baseline variables, age, sex, body mass index, average blood\n",
      "pressure, and six blood serum measurements were obtained for each of n =\n",
      "442 diabetes patients, as well as the response of interest, a\n",
      "quantitative measure of disease progression one year after baseline.\n",
      "\n",
      "**Data Set Characteristics:**\n",
      "\n",
      ":Number of Instances: 442\n",
      "\n",
      ":Number of Attributes: First 10 columns are numeric predictive values\n",
      "\n",
      ":Target: Column 11 is a quantitative measure of disease progression one year after baseline\n",
      "\n",
      ":Attribute Information:\n",
      "    - age     age in years\n",
      "    - sex\n",
      "    - bmi     body mass index\n",
      "    - bp      average blood pressure\n",
      "    - s1      tc, total serum cholesterol\n",
      "    - s2      ldl, low-density lipoproteins\n",
      "    - s3      hdl, high-density lipoproteins\n",
      "    - s4      tch, total cholesterol / HDL\n",
      "    - s5      ltg, possibly log of serum triglycerides level\n",
      "    - s6      glu, blood sugar level\n",
      "\n",
      "Note: Each of these 10 feature variables have been mean centered and scaled by the standard deviation times the square root of `n_samples` (i.e. the sum of squares of each column totals 1).\n",
      "\n",
      "Source URL:\n",
      "https://www4.stat.ncsu.edu/~boos/var.select/diabetes.html\n",
      "\n",
      "For more information see:\n",
      "Bradley Efron, Trevor Hastie, Iain Johnstone and Robert Tibshirani (2004) \"Least Angle Regression,\" Annals of Statistics (with discussion), 407-499.\n",
      "(https://web.stanford.edu/~hastie/Papers/LARS/LeastAngle_2002.pdf)\n",
      "\n",
      "Feature Names: ['age', 'sex', 'bmi', 'bp', 's1', 's2', 's3', 's4', 's5', 's6']\n"
     ]
    }
   ],
   "source": [
    "print(diabetes.DESCR)  # Description of the dataset\n",
    "print(\"Feature Names:\", diabetes.feature_names)"
   ]
  },
  {
   "cell_type": "code",
   "execution_count": 4,
   "id": "0f66d873-2557-4578-b186-5f48d310c7fc",
   "metadata": {},
   "outputs": [],
   "source": [
    "df = pd.DataFrame(diabetes.data, columns=diabetes.feature_names)\n",
    "df['target'] = diabetes.target"
   ]
  },
  {
   "cell_type": "code",
   "execution_count": 5,
   "id": "c318724b-765f-4258-8888-8bbc659db6e2",
   "metadata": {},
   "outputs": [
    {
     "name": "stdout",
     "output_type": "stream",
     "text": [
      "<class 'pandas.core.frame.DataFrame'>\n",
      "RangeIndex: 442 entries, 0 to 441\n",
      "Data columns (total 11 columns):\n",
      " #   Column  Non-Null Count  Dtype  \n",
      "---  ------  --------------  -----  \n",
      " 0   age     442 non-null    float64\n",
      " 1   sex     442 non-null    float64\n",
      " 2   bmi     442 non-null    float64\n",
      " 3   bp      442 non-null    float64\n",
      " 4   s1      442 non-null    float64\n",
      " 5   s2      442 non-null    float64\n",
      " 6   s3      442 non-null    float64\n",
      " 7   s4      442 non-null    float64\n",
      " 8   s5      442 non-null    float64\n",
      " 9   s6      442 non-null    float64\n",
      " 10  target  442 non-null    float64\n",
      "dtypes: float64(11)\n",
      "memory usage: 38.1 KB\n",
      "None\n",
      "                age           sex           bmi            bp            s1  \\\n",
      "count  4.420000e+02  4.420000e+02  4.420000e+02  4.420000e+02  4.420000e+02   \n",
      "mean  -2.511817e-19  1.230790e-17 -2.245564e-16 -4.797570e-17 -1.381499e-17   \n",
      "std    4.761905e-02  4.761905e-02  4.761905e-02  4.761905e-02  4.761905e-02   \n",
      "min   -1.072256e-01 -4.464164e-02 -9.027530e-02 -1.123988e-01 -1.267807e-01   \n",
      "25%   -3.729927e-02 -4.464164e-02 -3.422907e-02 -3.665608e-02 -3.424784e-02   \n",
      "50%    5.383060e-03 -4.464164e-02 -7.283766e-03 -5.670422e-03 -4.320866e-03   \n",
      "75%    3.807591e-02  5.068012e-02  3.124802e-02  3.564379e-02  2.835801e-02   \n",
      "max    1.107267e-01  5.068012e-02  1.705552e-01  1.320436e-01  1.539137e-01   \n",
      "\n",
      "                 s2            s3            s4            s5            s6  \\\n",
      "count  4.420000e+02  4.420000e+02  4.420000e+02  4.420000e+02  4.420000e+02   \n",
      "mean   3.918434e-17 -5.777179e-18 -9.042540e-18  9.293722e-17  1.130318e-17   \n",
      "std    4.761905e-02  4.761905e-02  4.761905e-02  4.761905e-02  4.761905e-02   \n",
      "min   -1.156131e-01 -1.023071e-01 -7.639450e-02 -1.260971e-01 -1.377672e-01   \n",
      "25%   -3.035840e-02 -3.511716e-02 -3.949338e-02 -3.324559e-02 -3.317903e-02   \n",
      "50%   -3.819065e-03 -6.584468e-03 -2.592262e-03 -1.947171e-03 -1.077698e-03   \n",
      "75%    2.984439e-02  2.931150e-02  3.430886e-02  3.243232e-02  2.791705e-02   \n",
      "max    1.987880e-01  1.811791e-01  1.852344e-01  1.335973e-01  1.356118e-01   \n",
      "\n",
      "           target  \n",
      "count  442.000000  \n",
      "mean   152.133484  \n",
      "std     77.093005  \n",
      "min     25.000000  \n",
      "25%     87.000000  \n",
      "50%    140.500000  \n",
      "75%    211.500000  \n",
      "max    346.000000  \n"
     ]
    }
   ],
   "source": [
    "print(df.info())  \n",
    "print(df.describe()) "
   ]
  },
  {
   "cell_type": "code",
   "execution_count": 6,
   "id": "8e84a042-a767-482b-9b1b-4bcfa8c56eac",
   "metadata": {},
   "outputs": [
    {
     "name": "stdout",
     "output_type": "stream",
     "text": [
      "Training set shape: (353, 10) (353,)\n",
      "Testing set shape: (89, 10) (89,)\n"
     ]
    }
   ],
   "source": [
    "X = df.drop(columns=['target'])  # Features\n",
    "y = df['target']  # Target variable\n",
    "\n",
    "X_train, X_test, y_train, y_test = train_test_split(X, y, test_size=0.2, random_state=42)\n",
    "\n",
    "# Display the shapes of training and testing sets\n",
    "print(\"Training set shape:\", X_train.shape, y_train.shape)\n",
    "print(\"Testing set shape:\", X_test.shape, y_test.shape)"
   ]
  },
  {
   "cell_type": "code",
   "execution_count": 7,
   "id": "7200b397-8e51-46c4-80de-234b69c2982e",
   "metadata": {},
   "outputs": [
    {
     "name": "stdout",
     "output_type": "stream",
     "text": [
      "R^2 Score on Test Set: 0.4526027629719196\n"
     ]
    }
   ],
   "source": [
    "# Initialize the model\n",
    "model = LinearRegression()\n",
    "\n",
    "# Train the model\n",
    "model.fit(X_train, y_train)\n",
    "\n",
    "# Step 2: Evaluate the Model\n",
    "# Predict on the test set\n",
    "y_pred = model.predict(X_test)\n",
    "\n",
    "# Compute R^2 Score\n",
    "r2_score = model.score(X_test, y_test)\n",
    "\n",
    "print(\"R^2 Score on Test Set:\", r2_score)"
   ]
  },
  {
   "cell_type": "code",
   "execution_count": 8,
   "id": "238405e9-122a-4f35-a58f-315c34fac152",
   "metadata": {},
   "outputs": [
    {
     "data": {
      "image/png": "[encoded data removed]",
      "text/plain": [
       "<Figure size 800x500 with 1 Axes>"
      ]
     },
     "metadata": {},
     "output_type": "display_data"
    },
    {
     "name": "stdout",
     "output_type": "stream",
     "text": [
      "Optimal Number of Features: 2\n"
     ]
    }
   ],
   "source": [
    "r2_scores = []  # To store R² scores\n",
    "num_features = []  # To store the number of features retained\n",
    "\n",
    "# Start with all features and remove one at a time\n",
    "for i in range(1, X_train.shape[1] + 1):  \n",
    "    rfe = RFE(estimator=LinearRegression(), n_features_to_select=i)\n",
    "    rfe.fit(X_train, y_train)\n",
    "    \n",
    "    # Evaluate model performance\n",
    "    r2 = rfe.score(X_test, y_test)\n",
    "    r2_scores.append(r2)\n",
    "    num_features.append(i)\n",
    "\n",
    "# Step 2: Visualize R² Score vs. Number of Features\n",
    "plt.figure(figsize=(8, 5))\n",
    "plt.plot(num_features, r2_scores, marker='o', linestyle='-')\n",
    "plt.xlabel(\"Number of Features Retained\")\n",
    "plt.ylabel(\"R² Score\")\n",
    "plt.title(\"R² Score vs. Number of Features\")\n",
    "plt.grid(True)\n",
    "plt.show()\n",
    "\n",
    "# Step 3: Identify the Optimal Number of Features\n",
    "threshold = 0.01  # Define significance threshold\n",
    "optimal_features = num_features[np.argmax(np.diff(r2_scores) < threshold)]\n",
    "\n",
    "print(\"Optimal Number of Features:\", optimal_features)"
   ]
  },
  {
   "cell_type": "code",
   "execution_count": 9,
   "id": "9123e4d1-072e-4512-a5eb-1146e7d0299d",
   "metadata": {},
   "outputs": [
    {
     "name": "stdout",
     "output_type": "stream",
     "text": [
      "Feature Ranking at Each Iteration:\n",
      "    age  sex  bmi  bp  s1  s2  s3  s4  s5  s6\n",
      "1    10    6    1   5   3   4   8   7   2   9\n",
      "2     9    5    1   4   2   3   7   6   1   8\n",
      "3     8    4    1   3   1   2   6   5   1   7\n",
      "4     7    3    1   2   1   1   5   4   1   6\n",
      "5     6    2    1   1   1   1   4   3   1   5\n",
      "6     5    1    1   1   1   1   3   2   1   4\n",
      "7     4    1    1   1   1   1   2   1   1   3\n",
      "8     3    1    1   1   1   1   1   1   1   2\n",
      "9     2    1    1   1   1   1   1   1   1   1\n",
      "10    1    1    1   1   1   1   1   1   1   1\n",
      "\n",
      "Feature Coefficients at Each Iteration:\n",
      "           age         sex         bmi          bp          s1          s2  \\\n",
      "1   998.577689         NaN         NaN         NaN         NaN         NaN   \n",
      "2   732.109021  562.226535         NaN         NaN         NaN         NaN   \n",
      "3   737.685594 -228.339889  680.224653         NaN         NaN         NaN   \n",
      "4   691.460102 -592.977874  362.950323  783.168538         NaN         NaN   \n",
      "5   597.892739  306.647913 -655.560612  409.622184  728.643647         NaN   \n",
      "6  -215.267423  557.314167  350.178667 -851.515734  591.093315  803.121285   \n",
      "7  -235.364224  551.866448  362.356114 -660.643160  343.348089  185.140764   \n",
      "8  -233.754686  550.744365  363.791753 -947.823133  541.585796  172.250588   \n",
      "9  -236.649588  542.799508  354.211438 -936.350589  528.796592  167.800414   \n",
      "10   37.904021 -241.964362  542.428759  347.703844 -931.488846  518.062277   \n",
      "\n",
      "            s3          s4          s5         s6  \n",
      "1          NaN         NaN         NaN        NaN  \n",
      "2          NaN         NaN         NaN        NaN  \n",
      "3          NaN         NaN         NaN        NaN  \n",
      "4          NaN         NaN         NaN        NaN  \n",
      "5          NaN         NaN         NaN        NaN  \n",
      "6          NaN         NaN         NaN        NaN  \n",
      "7   664.774591         NaN         NaN        NaN  \n",
      "8   277.741072  761.921177         NaN        NaN  \n",
      "9   270.396514  744.447429   53.350483        NaN  \n",
      "10  163.419983  275.317902  736.198859  48.670657  \n",
      "\n",
      "Top 3 Most Important Features:\n",
      "s1     931.488846\n",
      "s5     736.198859\n",
      "bmi    542.428759\n",
      "Name: 10, dtype: float64\n",
      "\n",
      "Initial Feature Ranking:\n",
      "bmi     1\n",
      "s5      2\n",
      "s1      3\n",
      "s2      4\n",
      "bp      5\n",
      "sex     6\n",
      "s4      7\n",
      "s3      8\n",
      "s6      9\n",
      "age    10\n",
      "Name: 1, dtype: int32\n",
      "\n",
      "Final Selected Features:\n",
      "age    1\n",
      "sex    1\n",
      "bmi    1\n",
      "bp     1\n",
      "s1     1\n",
      "s2     1\n",
      "s3     1\n",
      "s4     1\n",
      "s5     1\n",
      "s6     1\n",
      "Name: 10, dtype: int32\n"
     ]
    }
   ],
   "source": [
    "# Store feature rankings and coefficients at each step\n",
    "feature_ranking = []\n",
    "feature_coefficients = []\n",
    "\n",
    "for i in range(1, X_train.shape[1] + 1):\n",
    "    rfe = RFE(estimator=LinearRegression(), n_features_to_select=i)\n",
    "    rfe.fit(X_train, y_train)\n",
    "\n",
    "    # Get feature rankings and coefficients\n",
    "    ranking = rfe.ranking_\n",
    "    coefficients = rfe.estimator_.coef_\n",
    "\n",
    "    feature_ranking.append(ranking)\n",
    "    feature_coefficients.append(coefficients)\n",
    "\n",
    "# Convert to DataFrame for better readability\n",
    "columns = X_train.columns\n",
    "ranking_df = pd.DataFrame(feature_ranking, columns=columns, index=range(1, X_train.shape[1] + 1))\n",
    "coeff_df = pd.DataFrame(feature_coefficients, columns=columns, index=range(1, X_train.shape[1] + 1))\n",
    "\n",
    "# Display the ranking and coefficients\n",
    "print(\"Feature Ranking at Each Iteration:\")\n",
    "print(ranking_df)\n",
    "\n",
    "print(\"\\nFeature Coefficients at Each Iteration:\")\n",
    "print(coeff_df)\n",
    "\n",
    "# Step 2: Identify the Three Most Important Features (Final Iteration)\n",
    "final_selected_features = ranking_df.iloc[-1]\n",
    "top_features = final_selected_features[final_selected_features == 1].index.tolist()\n",
    "top_coefficients = coeff_df.iloc[-1][top_features]\n",
    "\n",
    "print(\"\\nTop 3 Most Important Features:\")\n",
    "print(top_coefficients.abs().nlargest(3))\n",
    "\n",
    "# Step 3: Compare Initial vs. Final Selected Features\n",
    "initial_ranking = ranking_df.iloc[0].sort_values()\n",
    "final_ranking = ranking_df.iloc[-1].sort_values()\n",
    "\n",
    "print(\"\\nInitial Feature Ranking:\")\n",
    "print(initial_ranking)\n",
    "\n",
    "print(\"\\nFinal Selected Features:\")\n",
    "print(final_ranking[final_ranking == 1])"
   ]
  },
  {
   "cell_type": "markdown",
   "id": "3b2e5130-5fc1-417a-a996-90ce0e13d94d",
   "metadata": {},
   "source": [
    "Q.) Discuss the three most important features and their significance in predicting the target\n",
    "variable.\n",
    "\n",
    "Ans.) The three most important features identified from the RFE process were:\n",
    "S1 (931.49) – This feature had the highest coefficient in the final model, indicating a strong contribution to predicting disease progression.\n",
    "S5 (736.20) – A key biomarker, potentially representing serum triglyceride levels, which are crucial in metabolic health and diabetes progression.\n",
    "BMI (542.43) – Body Mass Index is a well-established factor in diabetes prediction, strongly associated with disease risk."
   ]
  },
  {
   "cell_type": "markdown",
   "id": "fe9090f2-6fed-47ad-a9d6-ead3cb10015b",
   "metadata": {},
   "source": [
    "Q.) Compare the initial feature ranking with the final set of selected features.\n",
    "\n",
    "\n",
    "Ans.) Initial Ranking: BMI was the most important, followed by S5 and S1.\n",
    "Final Selected Features: All features were ultimately retained, with S1, S5, and BMI emerging as the most critical for the model.\n",
    "The importance of BMI and S5 remained consistent throughout the iterations, reinforcing their significance in diabetes progression prediction."
   ]
  },
  {
   "cell_type": "markdown",
   "id": "8093418e-a041-4203-8503-ef016f0de31a",
   "metadata": {},
   "source": [
    "Task 5"
   ]
  },
  {
   "cell_type": "markdown",
   "id": "25de0e84-71ab-488d-b736-8165493f6b12",
   "metadata": {},
   "source": [
    "Q.1) What did you learn about feature selection using RFE?\n",
    "\n",
    "\n",
    "Ans.) Through this analysis, I learned that Recursive Feature Elimination (RFE) is an effective method for identifying the most important features in a dataset. By iteratively removing the least significant features, RFE helped me understand which variables contribute the most to predicting diabetes progression. The process also provided insights into how the model's performance changes as features are eliminated, allowing me to determine the optimal number of features to retain."
   ]
  },
  {
   "cell_type": "markdown",
   "id": "2dccea4f-8b94-4ebd-a806-0e8cbaac02b2",
   "metadata": {},
   "source": [
    "Q.2) How does RFE compare to other feature selection methods like LASSO in terms of methodology and results?\n",
    "\n",
    "\n",
    "Ans.) RFE and LASSO both aim to select the most relevant features, but they do so differently. RFE works by recursively eliminating features based on their importance in a predictive model, while LASSO (Least Absolute Shrinkage and Selection Operator) applies L1 regularization to shrink some coefficients to zero, effectively removing less important features. In my case, RFE provided a clear ranking of feature importance, allowing me to observe how each feature impacted the model. LASSO, on the other hand, could be more efficient in high-dimensional datasets by automatically reducing feature redundancy without requiring multiple iterations."
   ]
  },
  {
   "cell_type": "markdown",
   "id": "5216c8b7-91b4-4c8a-8732-670288b31faa",
   "metadata": {},
   "source": [
    "Q.3) What insights can you draw about the dataset from the selected features?\n",
    "\n",
    "\n",
    "Ans) The most important features identified—S1, S5, and BMI—highlight key factors influencing diabetes progression. BMI’s significance aligns with well-known medical findings that obesity is a strong predictor of diabetes. S5 (likely related to triglyceride levels) and S1 (possibly a measure of blood serum levels) suggest that metabolic health and lipid profiles play a critical role in disease progression. This confirms that diabetes is not only influenced by weight but also by broader metabolic factors. The dataset effectively captures these relationships, making it useful for predictive modeling."
   ]
  },
  {
   "cell_type": "code",
   "execution_count": null,
   "id": "e6ed23f0-7036-482c-9f6e-210cb3010ac2",
   "metadata": {},
   "outputs": [],
   "source": []
  },
  {
   "cell_type": "code",
   "execution_count": null,
   "id": "3901943b-2627-4331-997a-006c99097361",
   "metadata": {},
   "outputs": [],
   "source": []
  }
 ],
 "metadata": {
  "kernelspec": {
   "display_name": "Python 3 (ipykernel)",
   "language": "python",
   "name": "python3"
  },
  "language_info": {
   "codemirror_mode": {
    "name": "ipython",
    "version": 3
   },
   "file_extension": ".py",
   "mimetype": "text/x-python",
   "name": "python",
   "nbconvert_exporter": "python",
   "pygments_lexer": "ipython3",
   "version": "3.12.7"
  }
 },
 "nbformat": 4,
 "nbformat_minor": 5
}
